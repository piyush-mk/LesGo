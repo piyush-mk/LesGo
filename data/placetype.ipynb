{
 "cells": [
  {
   "cell_type": "code",
   "execution_count": 32,
   "metadata": {},
   "outputs": [],
   "source": [
    "import numpy as np\n",
    "import pandas as pd\n",
    "import matplotlib.pyplot as plt\n",
    "import seaborn as sns\n",
    "import os"
   ]
  },
  {
   "cell_type": "code",
   "execution_count": 33,
   "metadata": {},
   "outputs": [],
   "source": [
    "ptpd=pd.read_csv('places_cleaned.csv')"
   ]
  },
  {
   "cell_type": "code",
   "execution_count": 34,
   "metadata": {},
   "outputs": [
    {
     "data": {
      "text/plain": [
       "Religious Sites                           51\n",
       "Bodies of Water                           16\n",
       "Architectural Buildings                   15\n",
       "Nature Wildlife Areas                     10\n",
       "Gardens                                    9\n",
       "                                          ..\n",
       "Amusement Theme Parks  Science Museums     1\n",
       "Aquariums                                  1\n",
       "Scenic Walking Areas                       1\n",
       "National Parks                             1\n",
       "Cultural Events                            1\n",
       "Name: P_type, Length: 68, dtype: int64"
      ]
     },
     "execution_count": 34,
     "metadata": {},
     "output_type": "execute_result"
    }
   ],
   "source": [
    "ptpd['P_type'].value_counts()"
   ]
  },
  {
   "cell_type": "code",
   "execution_count": 35,
   "metadata": {},
   "outputs": [],
   "source": [
    "#make a new dataframe with the columns city, type of attraction and the number of attractions of that type in that city\n",
    "npd=pd.DataFrame(columns=['location','P_type','Count'])\n",
    "#loop through the cities in the places_cleaned.csv file and count the number of attractions of each type in each city\n",
    "def count_attractions(location):\n",
    "    for i in ptpd['P_type'].unique():\n",
    "        npd.loc[len(npd.index)]=[location,i,len(ptpd[(ptpd['location']==location) & (ptpd['P_type']==i)])]\n",
    "    return npd\n",
    "for i in ptpd['location'].unique():\n",
    "    count_attractions(i)"
   ]
  },
  {
   "cell_type": "code",
   "execution_count": null,
   "metadata": {},
   "outputs": [],
   "source": [
    "#remove the rows with 0 attractions of a type in a city\n",
    "npd=npd[npd['Count']!=0]"
   ]
  },
  {
   "cell_type": "code",
   "execution_count": null,
   "metadata": {},
   "outputs": [],
   "source": [
    "npd.to_csv('placetype.csv',index=False)"
   ]
  },
  {
   "cell_type": "code",
   "execution_count": null,
   "metadata": {},
   "outputs": [],
   "source": []
  }
 ],
 "metadata": {
  "kernelspec": {
   "display_name": "NewStream",
   "language": "python",
   "name": "python3"
  },
  "language_info": {
   "codemirror_mode": {
    "name": "ipython",
    "version": 3
   },
   "file_extension": ".py",
   "mimetype": "text/x-python",
   "name": "python",
   "nbconvert_exporter": "python",
   "pygments_lexer": "ipython3",
   "version": "3.10.9"
  },
  "orig_nbformat": 4,
  "vscode": {
   "interpreter": {
    "hash": "1d7adf7f5feb88beb1a7c0c5594cc807902285752a83ba9bd24d5db3b009b7d0"
   }
  }
 },
 "nbformat": 4,
 "nbformat_minor": 2
}
